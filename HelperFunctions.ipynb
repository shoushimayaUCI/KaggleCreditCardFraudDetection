{
 "cells": [
  {
   "cell_type": "code",
   "execution_count": 1,
   "metadata": {},
   "outputs": [],
   "source": [
    "import matplotlib.pyplot as plt\n",
    "import seaborn as sns\n",
    "\n",
    "def graph_features():\n",
    "    fig, axes = plt.subplots(nrows=10, ncols=3, figsize=(12, 44))\n",
    "\n",
    "    for i, col in enumerate(df.drop(\"Class\", axis=1).columns):\n",
    "        sns.distplot(df[col],ax=axes[i//3,i%3])"
   ]
  },
  {
   "cell_type": "code",
   "execution_count": 2,
   "metadata": {},
   "outputs": [],
   "source": [
    "def show_corr():\n",
    "    cols = df.drop('Class', axis=1).columns\n",
    "    spr = pd.DataFrame()\n",
    "    spr['feature'] = cols\n",
    "    spr['spearman'] = [df[f].corr(df['Class'], 'spearman') for f in cols]\n",
    "    spr = spr.sort_values('spearman')\n",
    "    plt.figure(figsize=(6, 0.25*len(cols)))\n",
    "    sns.barplot(data=spr, y='feature', x='spearman', orient='h')"
   ]
  },
  {
   "cell_type": "code",
   "execution_count": null,
   "metadata": {},
   "outputs": [],
   "source": []
  }
 ],
 "metadata": {
  "kernelspec": {
   "display_name": "Python 3",
   "language": "python",
   "name": "python3"
  },
  "language_info": {
   "codemirror_mode": {
    "name": "ipython",
    "version": 3
   },
   "file_extension": ".py",
   "mimetype": "text/x-python",
   "name": "python",
   "nbconvert_exporter": "python",
   "pygments_lexer": "ipython3",
   "version": "3.7.4"
  }
 },
 "nbformat": 4,
 "nbformat_minor": 4
}
